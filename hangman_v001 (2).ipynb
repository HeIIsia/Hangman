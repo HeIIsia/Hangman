{
 "cells": [
  {
   "cell_type": "code",
   "execution_count": 13,
   "id": "b8e3098d-5623-40d3-a7b6-d6c9b5b60004",
   "metadata": {},
   "outputs": [],
   "source": [
    "import random"
   ]
  },
  {
   "cell_type": "code",
   "execution_count": 15,
   "id": "b3938675-5605-4dc7-907f-50c7451d6fab",
   "metadata": {},
   "outputs": [],
   "source": [
    "word_list = [\"program\", \"python\", \"code\"]\n",
    "word = random.choice(word_list)"
   ]
  },
  {
   "cell_type": "code",
   "execution_count": 17,
   "id": "b9ed32ad-0cb7-4d01-ac4f-c368a8029b61",
   "metadata": {},
   "outputs": [],
   "source": [
    "guessed_letters = []\n",
    "letter_list = []\n",
    "letter_ids = []\n",
    "errors = 0\n",
    "\n",
    "for letter in word:\n",
    "    letter_list += letter\n",
    "    guessed_letters += \"_\"\n",
    "    \n",
    "guessed_string = \" \".join(guessed_letters)"
   ]
  },
  {
   "cell_type": "code",
   "execution_count": 19,
   "id": "10b9d919-96c8-4da5-8b4a-7318fb486af2",
   "metadata": {},
   "outputs": [
    {
     "name": "stderr",
     "output_type": "stream",
     "text": [
      "<>:1: SyntaxWarning: invalid escape sequence '\\ '\n",
      "<>:9: SyntaxWarning: invalid escape sequence '\\ '\n",
      "<>:17: SyntaxWarning: invalid escape sequence '\\ '\n",
      "<>:1: SyntaxWarning: invalid escape sequence '\\ '\n",
      "<>:9: SyntaxWarning: invalid escape sequence '\\ '\n",
      "<>:17: SyntaxWarning: invalid escape sequence '\\ '\n",
      "C:\\Users\\jsunw\\AppData\\Local\\Temp\\ipykernel_39304\\4135166211.py:1: SyntaxWarning: invalid escape sequence '\\ '\n",
      "  stages = ['''\n",
      "C:\\Users\\jsunw\\AppData\\Local\\Temp\\ipykernel_39304\\4135166211.py:9: SyntaxWarning: invalid escape sequence '\\ '\n",
      "  ''', '''\n",
      "C:\\Users\\jsunw\\AppData\\Local\\Temp\\ipykernel_39304\\4135166211.py:17: SyntaxWarning: invalid escape sequence '\\ '\n",
      "  ''', '''\n"
     ]
    }
   ],
   "source": [
    "stages = ['''\n",
    "   +---+\n",
    "   |   |\n",
    "   o   |\n",
    "  /|\\  |\n",
    "  / \\  |\n",
    "       |\n",
    " =========\n",
    "''', '''\n",
    "   +---+\n",
    "   |   |\n",
    "   o   |\n",
    "  /|\\  |\n",
    "  /    |\n",
    "       |\n",
    " =========\n",
    "''', '''\n",
    "   +---+\n",
    "   |   |\n",
    "   o   |\n",
    "  /|\\  |\n",
    "       |\n",
    "       |\n",
    " =========\n",
    "''', '''\n",
    "   +---+\n",
    "   |   |\n",
    "   o   |\n",
    "  /|   |\n",
    "       |\n",
    "       |\n",
    " =========\n",
    "''', '''\n",
    "   +---+\n",
    "   |   |\n",
    "   o   |\n",
    "   |   |\n",
    "       |\n",
    "       |\n",
    " =========\n",
    "''', '''\n",
    "   +---+\n",
    "   |   |\n",
    "   o   |\n",
    "       |\n",
    "       |\n",
    "       |\n",
    " =========\n",
    "''', '''\n",
    "   +---+\n",
    "   |   |\n",
    "       |\n",
    "       |\n",
    "       |\n",
    "       |\n",
    " =========\n",
    "''']"
   ]
  },
  {
   "cell_type": "code",
   "execution_count": 21,
   "id": "52a6f256-f1c8-4a48-9cb4-bbf425d4a6ad",
   "metadata": {},
   "outputs": [],
   "source": [
    "# 6 lives in total\n",
    "lives = len(stages) - 1\n",
    "word_complete = False"
   ]
  },
  {
   "cell_type": "code",
   "execution_count": null,
   "id": "4898b030-3dd0-408d-b585-a0ed53bafd60",
   "metadata": {},
   "outputs": [
    {
     "name": "stdout",
     "output_type": "stream",
     "text": [
      "\n",
      "\n",
      "------------------------------\n",
      " WELCOME TO THE HANGMAN GAME!\n",
      "------------------------------\n",
      "        \n",
      "\n",
      "_ _ _ _ _ _\n"
     ]
    }
   ],
   "source": [
    "print(\"\"\"\\n\n",
    "------------------------------\n",
    " WELCOME TO THE HANGMAN GAME!\n",
    "------------------------------\n",
    "        \\n\"\"\")\n",
    "print(guessed_string)\n",
    "\n",
    "#Continue the game until out of lives\n",
    "while lives >= 0:\n",
    "    \n",
    "    if word_complete == False:\n",
    "        input_letter = input(\"Enter a letter: \").lower()\n",
    "        print(\"Enter a letter: \" + input_letter)\n",
    "        \n",
    "        #check if the entered letter is in the word\n",
    "        if (input_letter in letter_list):\n",
    "            letter_ids = [i for i, x in enumerate(letter_list) if x == input_letter]\n",
    "            \n",
    "            for letter_id in letter_ids:\n",
    "                guessed_letters[letter_id] = input_letter\n",
    "\n",
    "            #check if all the letters in the word have been guessed correctly\n",
    "            if (guessed_letters == letter_list):\n",
    "                word_complete = True\n",
    "            guessed_string = \" \".join(guessed_letters)\n",
    "            print(guessed_string)\n",
    "            print(\"\\n\")\n",
    "            \n",
    "        #if the entered letter is NOT in the word    \n",
    "        else:\n",
    "            print(\"No such letter. Take a hit.\")\n",
    "            print(\"Lives remaining: \" + str(lives) + \"\\n\")\n",
    "            print(stages[lives])\n",
    "            lives -= 1\n",
    "            \n",
    "    else:\n",
    "        print(\"You won!!!\")\n",
    "        break\n",
    "        \n",
    "else:\n",
    "    print(\"Game over\")\n"
   ]
  },
  {
   "cell_type": "code",
   "execution_count": null,
   "id": "a05858b4-f00d-498f-b909-2f9248badeec",
   "metadata": {},
   "outputs": [],
   "source": []
  }
 ],
 "metadata": {
  "kernelspec": {
   "display_name": "Python [conda env:base] *",
   "language": "python",
   "name": "conda-base-py"
  },
  "language_info": {
   "codemirror_mode": {
    "name": "ipython",
    "version": 3
   },
   "file_extension": ".py",
   "mimetype": "text/x-python",
   "name": "python",
   "nbconvert_exporter": "python",
   "pygments_lexer": "ipython3",
   "version": "3.12.7"
  }
 },
 "nbformat": 4,
 "nbformat_minor": 5
}
